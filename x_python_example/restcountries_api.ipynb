{
  "cells": [
    {
      "cell_type": "code",
      "source": [
        "import requests\n",
        "import pandas as pd\n",
        "\n",
        "url = 'https://restcountries.com/v3.1/all?fields=name,population'\n",
        "\n",
        "def get_data(url):\n",
        "  r = requests.get(url)\n",
        "  return r.json()\n",
        "\n",
        "def parse_data(resp):\n",
        "  name_block = resp.get('name',{})\n",
        "  native_block = name_block.get('nativeName', {})\n",
        "\n",
        "  if native_block:\n",
        "\n",
        "    for key, val in native_block.items():\n",
        "      native_official = val.get('official')\n",
        "      native_common = val.get('common')\n",
        "      break\n",
        "\n",
        "  else:\n",
        "      native_official = None\n",
        "      native_common = None\n",
        "\n",
        "  name_dict = {\n",
        "      \"Official\": name_block.get('official'),\n",
        "      \"Native Official\": native_official,\n",
        "      \"Native Common\": native_common,\n",
        "      \"Population\": resp.get('population')\n",
        "  }\n",
        "\n",
        "  return name_dict\n",
        "\n",
        "data = get_data(url)\n",
        "\n",
        "final = []\n",
        "\n",
        "for item in data:\n",
        "  result = parse_data(item)\n",
        "  final.append(result)\n",
        "\n",
        "df = pd.DataFrame(final)\n",
        "\n",
        "print(df)"
      ],
      "metadata": {
        "colab": {
          "base_uri": "https://localhost:8080/"
        },
        "id": "SqazMVox8AAV",
        "outputId": "7625ee19-9636-4ed1-f82d-cf052efdc9a3"
      },
      "execution_count": 5,
      "outputs": [
        {
          "output_type": "stream",
          "name": "stdout",
          "text": [
            "                                 Official  \\\n",
            "0                       Tunisian Republic   \n",
            "1                 Principality of Andorra   \n",
            "2           Socialist Republic of Vietnam   \n",
            "3                     Republic of Ecuador   \n",
            "4             Commonwealth of Puerto Rico   \n",
            "..                                    ...   \n",
            "245                      Kingdom of Tonga   \n",
            "246                              Malaysia   \n",
            "247                      Republic of Fiji   \n",
            "248                               Jamaica   \n",
            "249  United States Minor Outlying Islands   \n",
            "\n",
            "                          Native Official  \\\n",
            "0                      الجمهورية التونسية   \n",
            "1                     Principat d'Andorra   \n",
            "2      Cộng hòa xã hội chủ nghĩa Việt Nam   \n",
            "3                   República del Ecuador   \n",
            "4             Commonwealth of Puerto Rico   \n",
            "..                                    ...   \n",
            "245                      Kingdom of Tonga   \n",
            "246                              Malaysia   \n",
            "247                      Republic of Fiji   \n",
            "248                               Jamaica   \n",
            "249  United States Minor Outlying Islands   \n",
            "\n",
            "                            Native Common  Population  \n",
            "0                                    تونس    11818618  \n",
            "1                                 Andorra       77265  \n",
            "2                                Việt Nam    97338583  \n",
            "3                                 Ecuador    17643060  \n",
            "4                             Puerto Rico     3194034  \n",
            "..                                    ...         ...  \n",
            "245                                 Tonga      105697  \n",
            "246                              Malaysia    32365998  \n",
            "247                                  Fiji      896444  \n",
            "248                               Jamaica     2961161  \n",
            "249  United States Minor Outlying Islands         300  \n",
            "\n",
            "[250 rows x 4 columns]\n"
          ]
        }
      ]
    }
  ],
  "metadata": {
    "colab": {
      "name": "Welcome To Colab",
      "toc_visible": true,
      "provenance": []
    },
    "kernelspec": {
      "display_name": "Python 3",
      "name": "python3"
    }
  },
  "nbformat": 4,
  "nbformat_minor": 0
}