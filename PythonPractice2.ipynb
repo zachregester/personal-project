{
  "cells": [
    {
      "cell_type": "markdown",
      "metadata": {
        "id": "view-in-github",
        "colab_type": "text"
      },
      "source": [
        "<a href=\"https://colab.research.google.com/github/zachregester/personal-project/blob/main/PythonPractice2.ipynb\" target=\"_parent\"><img src=\"https://colab.research.google.com/assets/colab-badge.svg\" alt=\"Open In Colab\"/></a>"
      ]
    },
    {
      "cell_type": "code",
      "source": [
        "import requests\n",
        "import pandas as pd\n",
        "\n",
        "url = 'https://rickandmortyapi.com/api/character'\n",
        "\n",
        "def main_function(url, x):\n",
        "  r = requests.get(url + f'?page={x}')\n",
        "  return r.json()\n",
        "\n",
        "def get_pages(resp):\n",
        "  pages = resp['info']['pages']\n",
        "  return pages\n",
        "\n",
        "def parse_data(resp):\n",
        "  name_list = []\n",
        "  for item in resp['results']:\n",
        "    name_dict = {\n",
        "      'name': item.get('name'),\n",
        "      'episodes': len(item.get('episode'))\n",
        "    }\n",
        "    name_list.append(name_dict)\n",
        "  return name_list\n",
        "\n",
        "data = main_function(url,1)\n",
        "\n",
        "mainlist = []\n",
        "\n",
        "for x in range(get_pages(data)):\n",
        "  print(x)\n",
        "  mainlist.extend(parse_data(main_function(url,x)))\n",
        "\n",
        "fd = pd.DataFrame(mainlist)\n",
        "\n",
        "print(fd)\n",
        "\n",
        "\n",
        "\n",
        "\n"
      ],
      "metadata": {
        "id": "AUs43-iteI3c",
        "outputId": "50236af8-ea57-4d8b-ded4-8af50a46beb2",
        "colab": {
          "base_uri": "https://localhost:8080/"
        }
      },
      "execution_count": 59,
      "outputs": [
        {
          "output_type": "stream",
          "name": "stdout",
          "text": [
            "0\n",
            "1\n",
            "2\n",
            "3\n",
            "4\n",
            "5\n",
            "6\n",
            "7\n",
            "8\n",
            "9\n",
            "10\n",
            "11\n",
            "12\n",
            "13\n",
            "14\n",
            "15\n",
            "16\n",
            "17\n",
            "18\n",
            "19\n",
            "20\n",
            "21\n",
            "22\n",
            "23\n",
            "24\n",
            "25\n",
            "26\n",
            "27\n",
            "28\n",
            "29\n",
            "30\n",
            "31\n",
            "32\n",
            "33\n",
            "34\n",
            "35\n",
            "36\n",
            "37\n",
            "38\n",
            "39\n",
            "40\n",
            "41\n",
            "               name  episodes\n",
            "0      Rick Sanchez        51\n",
            "1       Morty Smith        51\n",
            "2      Summer Smith        42\n",
            "3        Beth Smith        42\n",
            "4       Jerry Smith        39\n",
            "..              ...       ...\n",
            "835      Party Rick         1\n",
            "836       Scar Rick         1\n",
            "837  Long Hair Rick         1\n",
            "838    Redhead Rick         1\n",
            "839   Redhead Morty         1\n",
            "\n",
            "[840 rows x 2 columns]\n"
          ]
        }
      ]
    }
  ],
  "metadata": {
    "colab": {
      "name": "Welcome To Colab",
      "toc_visible": true,
      "provenance": [],
      "include_colab_link": true
    },
    "kernelspec": {
      "display_name": "Python 3",
      "name": "python3"
    }
  },
  "nbformat": 4,
  "nbformat_minor": 0
}