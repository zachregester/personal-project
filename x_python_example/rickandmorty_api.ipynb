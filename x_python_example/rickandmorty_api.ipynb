{
  "cells": [
    {
      "cell_type": "code",
      "source": [
        "import requests\n",
        "import pandas as pd\n",
        "\n",
        "url = 'https://rickandmortyapi.com/api/character'\n",
        "\n",
        "def main_function(url, x):\n",
        "  r = requests.get(url + f'?page={x}')\n",
        "  return r.json()\n",
        "\n",
        "def get_pages(resp):\n",
        "  pages = resp['info']['pages']\n",
        "  return pages\n",
        "\n",
        "def parse_data(resp):\n",
        "  name_list = []\n",
        "  for item in resp['results']:\n",
        "    name_dict = {\n",
        "      'name': item.get('name'),\n",
        "      'episodes': len(item.get('episode'))\n",
        "    }\n",
        "    name_list.append(name_dict)\n",
        "  return name_list\n",
        "\n",
        "data = main_function(url,1)\n",
        "\n",
        "mainlist = []\n",
        "\n",
        "for x in range(get_pages(data)):\n",
        "  mainlist.extend(parse_data(main_function(url,x)))\n",
        "\n",
        "fd = pd.DataFrame(mainlist)\n",
        "\n",
        "print(fd)"
      ],
      "metadata": {
        "colab": {
          "base_uri": "https://localhost:8080/"
        },
        "id": "SqazMVox8AAV",
        "outputId": "935f0bdc-4a7f-4eab-f1a2-3603ff916d6a"
      },
      "execution_count": 7,
      "outputs": [
        {
          "output_type": "stream",
          "name": "stdout",
          "text": [
            "               name  episodes\n",
            "0      Rick Sanchez        51\n",
            "1       Morty Smith        51\n",
            "2      Summer Smith        42\n",
            "3        Beth Smith        42\n",
            "4       Jerry Smith        39\n",
            "..              ...       ...\n",
            "835      Party Rick         1\n",
            "836       Scar Rick         1\n",
            "837  Long Hair Rick         1\n",
            "838    Redhead Rick         1\n",
            "839   Redhead Morty         1\n",
            "\n",
            "[840 rows x 2 columns]\n"
          ]
        }
      ]
    }
  ],
  "metadata": {
    "colab": {
      "name": "Welcome To Colab",
      "toc_visible": true,
      "provenance": []
    },
    "kernelspec": {
      "display_name": "Python 3",
      "name": "python3"
    }
  },
  "nbformat": 4,
  "nbformat_minor": 0
}