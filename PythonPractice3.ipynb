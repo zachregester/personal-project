{
  "cells": [
    {
      "cell_type": "markdown",
      "metadata": {
        "id": "view-in-github",
        "colab_type": "text"
      },
      "source": [
        "<a href=\"https://colab.research.google.com/github/zachregester/personal-project/blob/main/PythonPractice3.ipynb\" target=\"_parent\"><img src=\"https://colab.research.google.com/assets/colab-badge.svg\" alt=\"Open In Colab\"/></a>"
      ]
    },
    {
      "cell_type": "code",
      "source": [
        "import requests\n",
        "import pandas as pd\n",
        "\n",
        "\n",
        "url = 'https://pokeapi.co/api/v2/pokemon/ditto'\n",
        "\n",
        "\n",
        "def main_request(url):\n",
        "  r = requests.get(url)\n",
        "  return r.json()\n",
        "\n",
        "\n",
        "def parse_data(resp):\n",
        "\n",
        "  game_list = []\n",
        "  game_indices = resp.get('game_indices',[])\n",
        "\n",
        "  for item in game_indices:\n",
        "    version = item.get('version',{})\n",
        "    game_dict = {\n",
        "        'game_index': item.get('game_index'),\n",
        "        'name': version.get('name'),\n",
        "        'poke_url': version.get('url')\n",
        "    }\n",
        "    game_list.append(game_dict)\n",
        "  return game_list\n",
        "\n",
        "\n",
        "data = main_request(url)\n",
        "\n",
        "result = parse_data(data)\n",
        "\n",
        "data_frame = pd.DataFrame(result)\n",
        "\n",
        "grouped = (\n",
        "    data_frame.groupby('name', as_index=False)\n",
        "              .size()                              # makes a 'size' column\n",
        "              .rename(columns={'size': 'count'})\n",
        "              .sort_values('count', ascending=False)\n",
        ")\n",
        "print(grouped)\n",
        "\n",
        "\n",
        "\n",
        "\n",
        "\n",
        "\n",
        "\n",
        "\n",
        "\n",
        "\n",
        "\n",
        "\n",
        "\n",
        "\n",
        "\n",
        "\n",
        "\n"
      ],
      "metadata": {
        "colab": {
          "base_uri": "https://localhost:8080/"
        },
        "id": "AUs43-iteI3c",
        "outputId": "4aec4242-d05a-4c0f-fc9a-e93d2aaad435"
      },
      "execution_count": 104,
      "outputs": [
        {
          "output_type": "stream",
          "name": "stdout",
          "text": [
            "          name  count\n",
            "0        black      1\n",
            "1      black-2      1\n",
            "2         blue      1\n",
            "3      crystal      1\n",
            "4      diamond      1\n",
            "5      emerald      1\n",
            "6      firered      1\n",
            "7         gold      1\n",
            "8    heartgold      1\n",
            "9    leafgreen      1\n",
            "10       pearl      1\n",
            "11    platinum      1\n",
            "12         red      1\n",
            "13        ruby      1\n",
            "14    sapphire      1\n",
            "15      silver      1\n",
            "16  soulsilver      1\n",
            "17       white      1\n",
            "18     white-2      1\n",
            "19      yellow      1\n"
          ]
        }
      ]
    }
  ],
  "metadata": {
    "colab": {
      "name": "Welcome To Colab",
      "toc_visible": true,
      "provenance": [],
      "include_colab_link": true
    },
    "kernelspec": {
      "display_name": "Python 3",
      "name": "python3"
    }
  },
  "nbformat": 4,
  "nbformat_minor": 0
}